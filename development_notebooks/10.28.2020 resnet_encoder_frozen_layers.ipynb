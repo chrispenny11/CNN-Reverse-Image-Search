{
 "cells": [
  {
   "cell_type": "code",
   "execution_count": 1,
   "metadata": {},
   "outputs": [],
   "source": [
    "import tensorflow\n",
    "import tensorflow.keras as keras\n",
    "import tensorflow.keras.applications as ka\n",
    "# from tensorflow.keras.keras_preprocessing.image import ImageDataGenerator\n",
    "import numpy as np\n",
    "import sys\n",
    "# import sklearn.model_selection as skl\n",
    "from sklearn.model_selection import train_test_split\n",
    "\n",
    "import matplotlib\n",
    "import matplotlib.pyplot as plt\n",
    "plt.rcParams[\"figure.figsize\"]=1,1"
   ]
  },
  {
   "cell_type": "code",
   "execution_count": 2,
   "metadata": {
    "scrolled": false
   },
   "outputs": [],
   "source": [
    "base_model = ka.ResNet50(\n",
    "#                         include_top=False,\n",
    "                        weights='imagenet',#,\n",
    "#                         classes=2,\n",
    "                        input_shape = (224, 224, 3)\n",
    "                        )\n",
    "\n",
    "for layer in base_model.layers:\n",
    "    layer.trainable = False\n",
    "\n",
    "# base_model_add_layers = keras.Model(inputs = base_model.input, outputs = base_model.output)\n",
    "# out_1 = keras.layers.GlobalAvgPool2D()(base_model.output)\n",
    "# out_1 = keras.layers.GlobalAveragePooling2D()(base_model.output)\n",
    "# x = keras.layers.Flatten()(base_model.layers[-2].output)\n",
    "out_2 = keras.layers.Dense(1600, activation='relu')(base_model.layers[-2].output)\n",
    "out_1 = keras.layers.Dense(1000, activation='softmax')(out_2)\n",
    "\n",
    "model = keras.Model(inputs = base_model.input, outputs = out_1)#, base_model.output, base_model.layers[-2].output])\n",
    "model_extra = keras.Model(inputs = model.input, outputs = [model.layers[-1].output, model.layers[-2].output, model.layers[-3].output])\n",
    "# opt = keras.optimizers.SGD(lr = 0.0001)\n",
    "opt = keras.optimizers.Adam(learning_rate = 0.0001)\n",
    "# base_model.compile(optimizer = opt, loss = 'binary_crossentropy', metrics = 'accuracy')\n",
    "model.compile(optimizer = opt, loss = 'categorical_crossentropy', metrics = 'accuracy')\n",
    "model_extra.compile(optimizer = opt, loss = 'categorical_crossentropy', metrics = 'accuracy')\n",
    "\n",
    "# model.summary()\n",
    "# base_model.summary()"
   ]
  },
  {
   "cell_type": "code",
   "execution_count": 3,
   "metadata": {},
   "outputs": [],
   "source": [
    "# directory = './ImageNet/organized_validation/'\n",
    "\n",
    "# data_batches = tf.keras.preprocessing.image_dataset_from_directory(\n",
    "#     directory,\n",
    "#     labels=\"inferred\",\n",
    "#     label_mode=\"categorical\",\n",
    "# #     class_names=None,\n",
    "#     color_mode=\"rgb\",\n",
    "#     batch_size=1,\n",
    "#     image_size=(224, 224),\n",
    "#     shuffle=True,\n",
    "#     seed=13,\n",
    "# #     validation_split=None,\n",
    "# #     subset=None,\n",
    "#     interpolation=\"bilinear\"\n",
    "# #     follow_links=False,\n",
    "# )"
   ]
  },
  {
   "cell_type": "code",
   "execution_count": 4,
   "metadata": {},
   "outputs": [
    {
     "name": "stdout",
     "output_type": "stream",
     "text": [
      "Found 50000 images belonging to 1000 classes.\n"
     ]
    }
   ],
   "source": [
    "directory = './ImageNet/organized_validation/'\n",
    "\n",
    "resnet_preprocess = keras.applications.resnet.preprocess_input\n",
    "\n",
    "val_id_gen = keras.preprocessing.image.ImageDataGenerator(preprocessing_function = resnet_preprocess)\n",
    "# val_gen = keras.preprocessing.image.ImageDataGenerator()\n",
    "# val_id_gen = tensorflow.keras.preprocessing.image.ImageDataGenerator()\n",
    "# val_gen = ImageDataGenerator()\n",
    "\n",
    "\n",
    "val_gen = val_id_gen.flow_from_directory(\n",
    "    directory, \n",
    "    target_size=(224, 224),\n",
    "    color_mode='rgb', \n",
    "    classes=None,\n",
    "    class_mode='categorical', \n",
    "    batch_size=1, \n",
    "    shuffle=False, \n",
    "    seed=13,\n",
    "#     save_to_dir=None, \n",
    "#     save_prefix='', \n",
    "#     save_format='png', f\n",
    "#     ollow_links=False,\n",
    "#     subset=None, \n",
    "    interpolation='nearest'\n",
    ")\n",
    "\n",
    "# next(val_gen)"
   ]
  },
  {
   "cell_type": "code",
   "execution_count": 5,
   "metadata": {},
   "outputs": [
    {
     "name": "stdout",
     "output_type": "stream",
     "text": [
      "0\n",
      "1000\n",
      "2000\n",
      "3000\n",
      "4000\n",
      "5000\n",
      "6000\n",
      "7000\n",
      "8000\n",
      "9000\n",
      "10000\n",
      "11000\n",
      "12000\n",
      "13000\n",
      "14000\n",
      "15000\n",
      "16000\n",
      "17000\n",
      "18000\n",
      "19000\n",
      "20000\n",
      "21000\n",
      "22000\n",
      "23000\n",
      "24000\n",
      "25000\n",
      "26000\n",
      "27000\n",
      "28000\n",
      "29000\n"
     ]
    }
   ],
   "source": [
    "x_val = np.zeros((30000, 224, 224, 3))\n",
    "y_val = np.zeros((30000, 1000))\n",
    "for i in range(30000):\n",
    "    if i % 1000 == 0:\n",
    "        print(i)\n",
    "        \n",
    "    x, y = val_gen.next()\n",
    "    x_val[i, :, :, :] = x\n",
    "    y_val[i, :] = y\n",
    "    \n",
    "x_train, x_val, y_train, y_val = train_test_split(x_val, y_val, train_size = .75, shuffle = True)"
   ]
  },
  {
   "cell_type": "code",
   "execution_count": null,
   "metadata": {
    "scrolled": false
   },
   "outputs": [],
   "source": [
    "# for i in range(400):\n",
    "#     x, y = val_gen.next()\n",
    "    \n",
    "#     plt.clf()\n",
    "#     plt.imshow(x[0, :, :, :]/255)\n",
    "#     plt.show()\n",
    "    \n",
    "#     print(y)\n",
    "\n",
    "# for x in x_val:\n",
    "#     plt.clf()\n",
    "#     plt.imshow(x/255)\n",
    "#     plt.show()"
   ]
  },
  {
   "cell_type": "code",
   "execution_count": null,
   "metadata": {},
   "outputs": [],
   "source": [
    "# Freeze all but last few layers:\n",
    "# for layer in model.layers:\n",
    "#     layer.trainable = False\n",
    "    \n",
    "# model.layers[-1].trainable = True\n",
    "# model.layers[-2].trainable = True\n",
    "# model.layers[-3].trainable = True\n",
    "# base_model.layers[-4].trainable = True\n",
    "\n"
   ]
  },
  {
   "cell_type": "code",
   "execution_count": 6,
   "metadata": {
    "scrolled": false
   },
   "outputs": [
    {
     "name": "stdout",
     "output_type": "stream",
     "text": [
      "Epoch 1/50\n",
      "704/704 [==============================] - 2016s 3s/step - loss: 3.0893 - accuracy: 0.4093 - val_loss: 1.6870 - val_accuracy: 0.5901\n",
      "Epoch 2/50\n",
      "704/704 [==============================] - 1893s 3s/step - loss: 1.0294 - accuracy: 0.7353 - val_loss: 1.4526 - val_accuracy: 0.6291\n",
      "Epoch 3/50\n",
      "704/704 [==============================] - 1884s 3s/step - loss: 0.6576 - accuracy: 0.8296 - val_loss: 1.3943 - val_accuracy: 0.6419\n",
      "Epoch 4/50\n",
      "704/704 [==============================] - 1939s 3s/step - loss: 0.4371 - accuracy: 0.8922 - val_loss: 1.3985 - val_accuracy: 0.6433\n",
      "Epoch 5/50\n",
      "704/704 [==============================] - 1938s 3s/step - loss: 0.2888 - accuracy: 0.9375 - val_loss: 1.3807 - val_accuracy: 0.6561\n",
      "Epoch 6/50\n",
      "704/704 [==============================] - 1910s 3s/step - loss: 0.1919 - accuracy: 0.9652 - val_loss: 1.4108 - val_accuracy: 0.6557\n",
      "Epoch 7/50\n",
      "704/704 [==============================] - 1897s 3s/step - loss: 0.1309 - accuracy: 0.9803 - val_loss: 1.4011 - val_accuracy: 0.6568\n",
      "Epoch 8/50\n",
      "704/704 [==============================] - 1883s 3s/step - loss: 0.0951 - accuracy: 0.9865 - val_loss: 1.4557 - val_accuracy: 0.6552\n",
      "Epoch 9/50\n",
      "704/704 [==============================] - 1884s 3s/step - loss: 0.0685 - accuracy: 0.9924 - val_loss: 1.4391 - val_accuracy: 0.6656\n",
      "Epoch 10/50\n",
      "704/704 [==============================] - 1884s 3s/step - loss: 0.0504 - accuracy: 0.9952 - val_loss: 1.4950 - val_accuracy: 0.6612\n",
      "Epoch 11/50\n",
      "704/704 [==============================] - 1891s 3s/step - loss: 0.0506 - accuracy: 0.9935 - val_loss: 1.5367 - val_accuracy: 0.6625\n",
      "Epoch 12/50\n",
      "704/704 [==============================] - 1883s 3s/step - loss: 0.0436 - accuracy: 0.9932 - val_loss: 1.5892 - val_accuracy: 0.6593\n",
      "Epoch 13/50\n",
      "704/704 [==============================] - 1883s 3s/step - loss: 0.0386 - accuracy: 0.9944 - val_loss: 1.5968 - val_accuracy: 0.6557\n",
      "Epoch 14/50\n",
      "704/704 [==============================] - 1886s 3s/step - loss: 0.0343 - accuracy: 0.9943 - val_loss: 1.6809 - val_accuracy: 0.6503\n",
      "Epoch 15/50\n",
      "704/704 [==============================] - 1887s 3s/step - loss: 0.0303 - accuracy: 0.9948 - val_loss: 1.6102 - val_accuracy: 0.6708\n",
      "Epoch 16/50\n",
      "704/704 [==============================] - 1880s 3s/step - loss: 0.0260 - accuracy: 0.9957 - val_loss: 1.7149 - val_accuracy: 0.6589\n",
      "Epoch 17/50\n",
      "704/704 [==============================] - 1880s 3s/step - loss: 0.0380 - accuracy: 0.9918 - val_loss: 1.7175 - val_accuracy: 0.6569\n",
      "Epoch 18/50\n",
      "704/704 [==============================] - 1877s 3s/step - loss: 0.0211 - accuracy: 0.9963 - val_loss: 1.6578 - val_accuracy: 0.6683\n",
      "Epoch 19/50\n",
      "704/704 [==============================] - 1875s 3s/step - loss: 0.0155 - accuracy: 0.9972 - val_loss: 1.7822 - val_accuracy: 0.6543\n",
      "Epoch 20/50\n",
      "704/704 [==============================] - 1876s 3s/step - loss: 0.0279 - accuracy: 0.9939 - val_loss: 1.7269 - val_accuracy: 0.6653\n",
      "Epoch 21/50\n",
      "704/704 [==============================] - 1878s 3s/step - loss: 0.0205 - accuracy: 0.9957 - val_loss: 1.7859 - val_accuracy: 0.6593\n",
      "Epoch 22/50\n",
      "704/704 [==============================] - 1875s 3s/step - loss: 0.0286 - accuracy: 0.9939 - val_loss: 1.7584 - val_accuracy: 0.6631\n",
      "Epoch 23/50\n",
      "704/704 [==============================] - 1875s 3s/step - loss: 0.0102 - accuracy: 0.9984 - val_loss: 1.7445 - val_accuracy: 0.6704\n",
      "Epoch 24/50\n",
      "704/704 [==============================] - 1884s 3s/step - loss: 0.0261 - accuracy: 0.9944 - val_loss: 1.8317 - val_accuracy: 0.6620\n",
      "Epoch 25/50\n",
      "704/704 [==============================] - 1889s 3s/step - loss: 0.0129 - accuracy: 0.9980 - val_loss: 1.8166 - val_accuracy: 0.6665\n",
      "Epoch 26/50\n",
      "704/704 [==============================] - 1890s 3s/step - loss: 0.0134 - accuracy: 0.9973 - val_loss: 1.8149 - val_accuracy: 0.6717\n",
      "Epoch 27/50\n",
      "704/704 [==============================] - 1885s 3s/step - loss: 0.0175 - accuracy: 0.9966 - val_loss: 1.8780 - val_accuracy: 0.6593\n",
      "Epoch 28/50\n",
      "675/704 [===========================>..] - ETA: 59s - loss: 0.0123 - accuracy: 0.9975 "
     ]
    },
    {
     "ename": "KeyboardInterrupt",
     "evalue": "",
     "output_type": "error",
     "traceback": [
      "\u001b[0;31m---------------------------------------------------------------------------\u001b[0m",
      "\u001b[0;31mKeyboardInterrupt\u001b[0m                         Traceback (most recent call last)",
      "\u001b[0;32m<ipython-input-6-ac5f521abc3b>\u001b[0m in \u001b[0;36m<module>\u001b[0;34m\u001b[0m\n\u001b[0;32m----> 1\u001b[0;31m \u001b[0mhistory\u001b[0m \u001b[0;34m=\u001b[0m \u001b[0mmodel\u001b[0m\u001b[0;34m.\u001b[0m\u001b[0mfit\u001b[0m\u001b[0;34m(\u001b[0m\u001b[0mx_train\u001b[0m\u001b[0;34m,\u001b[0m \u001b[0my_train\u001b[0m\u001b[0;34m,\u001b[0m \u001b[0mvalidation_data\u001b[0m \u001b[0;34m=\u001b[0m \u001b[0;34m(\u001b[0m\u001b[0mx_val\u001b[0m\u001b[0;34m,\u001b[0m \u001b[0my_val\u001b[0m\u001b[0;34m)\u001b[0m\u001b[0;34m,\u001b[0m \u001b[0mepochs\u001b[0m \u001b[0;34m=\u001b[0m \u001b[0;36m50\u001b[0m\u001b[0;34m,\u001b[0m \u001b[0mverbose\u001b[0m \u001b[0;34m=\u001b[0m \u001b[0;36m1\u001b[0m\u001b[0;34m,\u001b[0m \u001b[0mshuffle\u001b[0m \u001b[0;34m=\u001b[0m \u001b[0;32mTrue\u001b[0m\u001b[0;34m)\u001b[0m\u001b[0;34m\u001b[0m\u001b[0;34m\u001b[0m\u001b[0m\n\u001b[0m",
      "\u001b[0;32m/usr/local/lib/python3.8/site-packages/tensorflow/python/keras/engine/training.py\u001b[0m in \u001b[0;36m_method_wrapper\u001b[0;34m(self, *args, **kwargs)\u001b[0m\n\u001b[1;32m    106\u001b[0m   \u001b[0;32mdef\u001b[0m \u001b[0m_method_wrapper\u001b[0m\u001b[0;34m(\u001b[0m\u001b[0mself\u001b[0m\u001b[0;34m,\u001b[0m \u001b[0;34m*\u001b[0m\u001b[0margs\u001b[0m\u001b[0;34m,\u001b[0m \u001b[0;34m**\u001b[0m\u001b[0mkwargs\u001b[0m\u001b[0;34m)\u001b[0m\u001b[0;34m:\u001b[0m\u001b[0;34m\u001b[0m\u001b[0;34m\u001b[0m\u001b[0m\n\u001b[1;32m    107\u001b[0m     \u001b[0;32mif\u001b[0m \u001b[0;32mnot\u001b[0m \u001b[0mself\u001b[0m\u001b[0;34m.\u001b[0m\u001b[0m_in_multi_worker_mode\u001b[0m\u001b[0;34m(\u001b[0m\u001b[0;34m)\u001b[0m\u001b[0;34m:\u001b[0m  \u001b[0;31m# pylint: disable=protected-access\u001b[0m\u001b[0;34m\u001b[0m\u001b[0;34m\u001b[0m\u001b[0m\n\u001b[0;32m--> 108\u001b[0;31m       \u001b[0;32mreturn\u001b[0m \u001b[0mmethod\u001b[0m\u001b[0;34m(\u001b[0m\u001b[0mself\u001b[0m\u001b[0;34m,\u001b[0m \u001b[0;34m*\u001b[0m\u001b[0margs\u001b[0m\u001b[0;34m,\u001b[0m \u001b[0;34m**\u001b[0m\u001b[0mkwargs\u001b[0m\u001b[0;34m)\u001b[0m\u001b[0;34m\u001b[0m\u001b[0;34m\u001b[0m\u001b[0m\n\u001b[0m\u001b[1;32m    109\u001b[0m \u001b[0;34m\u001b[0m\u001b[0m\n\u001b[1;32m    110\u001b[0m     \u001b[0;31m# Running inside `run_distribute_coordinator` already.\u001b[0m\u001b[0;34m\u001b[0m\u001b[0;34m\u001b[0m\u001b[0;34m\u001b[0m\u001b[0m\n",
      "\u001b[0;32m/usr/local/lib/python3.8/site-packages/tensorflow/python/keras/engine/training.py\u001b[0m in \u001b[0;36mfit\u001b[0;34m(self, x, y, batch_size, epochs, verbose, callbacks, validation_split, validation_data, shuffle, class_weight, sample_weight, initial_epoch, steps_per_epoch, validation_steps, validation_batch_size, validation_freq, max_queue_size, workers, use_multiprocessing)\u001b[0m\n\u001b[1;32m   1096\u001b[0m                 batch_size=batch_size):\n\u001b[1;32m   1097\u001b[0m               \u001b[0mcallbacks\u001b[0m\u001b[0;34m.\u001b[0m\u001b[0mon_train_batch_begin\u001b[0m\u001b[0;34m(\u001b[0m\u001b[0mstep\u001b[0m\u001b[0;34m)\u001b[0m\u001b[0;34m\u001b[0m\u001b[0;34m\u001b[0m\u001b[0m\n\u001b[0;32m-> 1098\u001b[0;31m               \u001b[0mtmp_logs\u001b[0m \u001b[0;34m=\u001b[0m \u001b[0mtrain_function\u001b[0m\u001b[0;34m(\u001b[0m\u001b[0miterator\u001b[0m\u001b[0;34m)\u001b[0m\u001b[0;34m\u001b[0m\u001b[0;34m\u001b[0m\u001b[0m\n\u001b[0m\u001b[1;32m   1099\u001b[0m               \u001b[0;32mif\u001b[0m \u001b[0mdata_handler\u001b[0m\u001b[0;34m.\u001b[0m\u001b[0mshould_sync\u001b[0m\u001b[0;34m:\u001b[0m\u001b[0;34m\u001b[0m\u001b[0;34m\u001b[0m\u001b[0m\n\u001b[1;32m   1100\u001b[0m                 \u001b[0mcontext\u001b[0m\u001b[0;34m.\u001b[0m\u001b[0masync_wait\u001b[0m\u001b[0;34m(\u001b[0m\u001b[0;34m)\u001b[0m\u001b[0;34m\u001b[0m\u001b[0;34m\u001b[0m\u001b[0m\n",
      "\u001b[0;32m/usr/local/lib/python3.8/site-packages/tensorflow/python/eager/def_function.py\u001b[0m in \u001b[0;36m__call__\u001b[0;34m(self, *args, **kwds)\u001b[0m\n\u001b[1;32m    778\u001b[0m       \u001b[0;32melse\u001b[0m\u001b[0;34m:\u001b[0m\u001b[0;34m\u001b[0m\u001b[0;34m\u001b[0m\u001b[0m\n\u001b[1;32m    779\u001b[0m         \u001b[0mcompiler\u001b[0m \u001b[0;34m=\u001b[0m \u001b[0;34m\"nonXla\"\u001b[0m\u001b[0;34m\u001b[0m\u001b[0;34m\u001b[0m\u001b[0m\n\u001b[0;32m--> 780\u001b[0;31m         \u001b[0mresult\u001b[0m \u001b[0;34m=\u001b[0m \u001b[0mself\u001b[0m\u001b[0;34m.\u001b[0m\u001b[0m_call\u001b[0m\u001b[0;34m(\u001b[0m\u001b[0;34m*\u001b[0m\u001b[0margs\u001b[0m\u001b[0;34m,\u001b[0m \u001b[0;34m**\u001b[0m\u001b[0mkwds\u001b[0m\u001b[0;34m)\u001b[0m\u001b[0;34m\u001b[0m\u001b[0;34m\u001b[0m\u001b[0m\n\u001b[0m\u001b[1;32m    781\u001b[0m \u001b[0;34m\u001b[0m\u001b[0m\n\u001b[1;32m    782\u001b[0m       \u001b[0mnew_tracing_count\u001b[0m \u001b[0;34m=\u001b[0m \u001b[0mself\u001b[0m\u001b[0;34m.\u001b[0m\u001b[0m_get_tracing_count\u001b[0m\u001b[0;34m(\u001b[0m\u001b[0;34m)\u001b[0m\u001b[0;34m\u001b[0m\u001b[0;34m\u001b[0m\u001b[0m\n",
      "\u001b[0;32m/usr/local/lib/python3.8/site-packages/tensorflow/python/eager/def_function.py\u001b[0m in \u001b[0;36m_call\u001b[0;34m(self, *args, **kwds)\u001b[0m\n\u001b[1;32m    805\u001b[0m       \u001b[0;31m# In this case we have created variables on the first call, so we run the\u001b[0m\u001b[0;34m\u001b[0m\u001b[0;34m\u001b[0m\u001b[0;34m\u001b[0m\u001b[0m\n\u001b[1;32m    806\u001b[0m       \u001b[0;31m# defunned version which is guaranteed to never create variables.\u001b[0m\u001b[0;34m\u001b[0m\u001b[0;34m\u001b[0m\u001b[0;34m\u001b[0m\u001b[0m\n\u001b[0;32m--> 807\u001b[0;31m       \u001b[0;32mreturn\u001b[0m \u001b[0mself\u001b[0m\u001b[0;34m.\u001b[0m\u001b[0m_stateless_fn\u001b[0m\u001b[0;34m(\u001b[0m\u001b[0;34m*\u001b[0m\u001b[0margs\u001b[0m\u001b[0;34m,\u001b[0m \u001b[0;34m**\u001b[0m\u001b[0mkwds\u001b[0m\u001b[0;34m)\u001b[0m  \u001b[0;31m# pylint: disable=not-callable\u001b[0m\u001b[0;34m\u001b[0m\u001b[0;34m\u001b[0m\u001b[0m\n\u001b[0m\u001b[1;32m    808\u001b[0m     \u001b[0;32melif\u001b[0m \u001b[0mself\u001b[0m\u001b[0;34m.\u001b[0m\u001b[0m_stateful_fn\u001b[0m \u001b[0;32mis\u001b[0m \u001b[0;32mnot\u001b[0m \u001b[0;32mNone\u001b[0m\u001b[0;34m:\u001b[0m\u001b[0;34m\u001b[0m\u001b[0;34m\u001b[0m\u001b[0m\n\u001b[1;32m    809\u001b[0m       \u001b[0;31m# Release the lock early so that multiple threads can perform the call\u001b[0m\u001b[0;34m\u001b[0m\u001b[0;34m\u001b[0m\u001b[0;34m\u001b[0m\u001b[0m\n",
      "\u001b[0;32m/usr/local/lib/python3.8/site-packages/tensorflow/python/eager/function.py\u001b[0m in \u001b[0;36m__call__\u001b[0;34m(self, *args, **kwargs)\u001b[0m\n\u001b[1;32m   2827\u001b[0m     \u001b[0;32mwith\u001b[0m \u001b[0mself\u001b[0m\u001b[0;34m.\u001b[0m\u001b[0m_lock\u001b[0m\u001b[0;34m:\u001b[0m\u001b[0;34m\u001b[0m\u001b[0;34m\u001b[0m\u001b[0m\n\u001b[1;32m   2828\u001b[0m       \u001b[0mgraph_function\u001b[0m\u001b[0;34m,\u001b[0m \u001b[0margs\u001b[0m\u001b[0;34m,\u001b[0m \u001b[0mkwargs\u001b[0m \u001b[0;34m=\u001b[0m \u001b[0mself\u001b[0m\u001b[0;34m.\u001b[0m\u001b[0m_maybe_define_function\u001b[0m\u001b[0;34m(\u001b[0m\u001b[0margs\u001b[0m\u001b[0;34m,\u001b[0m \u001b[0mkwargs\u001b[0m\u001b[0;34m)\u001b[0m\u001b[0;34m\u001b[0m\u001b[0;34m\u001b[0m\u001b[0m\n\u001b[0;32m-> 2829\u001b[0;31m     \u001b[0;32mreturn\u001b[0m \u001b[0mgraph_function\u001b[0m\u001b[0;34m.\u001b[0m\u001b[0m_filtered_call\u001b[0m\u001b[0;34m(\u001b[0m\u001b[0margs\u001b[0m\u001b[0;34m,\u001b[0m \u001b[0mkwargs\u001b[0m\u001b[0;34m)\u001b[0m  \u001b[0;31m# pylint: disable=protected-access\u001b[0m\u001b[0;34m\u001b[0m\u001b[0;34m\u001b[0m\u001b[0m\n\u001b[0m\u001b[1;32m   2830\u001b[0m \u001b[0;34m\u001b[0m\u001b[0m\n\u001b[1;32m   2831\u001b[0m   \u001b[0;34m@\u001b[0m\u001b[0mproperty\u001b[0m\u001b[0;34m\u001b[0m\u001b[0;34m\u001b[0m\u001b[0m\n",
      "\u001b[0;32m/usr/local/lib/python3.8/site-packages/tensorflow/python/eager/function.py\u001b[0m in \u001b[0;36m_filtered_call\u001b[0;34m(self, args, kwargs, cancellation_manager)\u001b[0m\n\u001b[1;32m   1841\u001b[0m       \u001b[0;31m`\u001b[0m\u001b[0margs\u001b[0m\u001b[0;31m`\u001b[0m \u001b[0;32mand\u001b[0m\u001b[0;31m \u001b[0m\u001b[0;31m`\u001b[0m\u001b[0mkwargs\u001b[0m\u001b[0;31m`\u001b[0m\u001b[0;34m.\u001b[0m\u001b[0;34m\u001b[0m\u001b[0;34m\u001b[0m\u001b[0m\n\u001b[1;32m   1842\u001b[0m     \"\"\"\n\u001b[0;32m-> 1843\u001b[0;31m     return self._call_flat(\n\u001b[0m\u001b[1;32m   1844\u001b[0m         [t for t in nest.flatten((args, kwargs), expand_composites=True)\n\u001b[1;32m   1845\u001b[0m          if isinstance(t, (ops.Tensor,\n",
      "\u001b[0;32m/usr/local/lib/python3.8/site-packages/tensorflow/python/eager/function.py\u001b[0m in \u001b[0;36m_call_flat\u001b[0;34m(self, args, captured_inputs, cancellation_manager)\u001b[0m\n\u001b[1;32m   1921\u001b[0m         and executing_eagerly):\n\u001b[1;32m   1922\u001b[0m       \u001b[0;31m# No tape is watching; skip to running the function.\u001b[0m\u001b[0;34m\u001b[0m\u001b[0;34m\u001b[0m\u001b[0;34m\u001b[0m\u001b[0m\n\u001b[0;32m-> 1923\u001b[0;31m       return self._build_call_outputs(self._inference_function.call(\n\u001b[0m\u001b[1;32m   1924\u001b[0m           ctx, args, cancellation_manager=cancellation_manager))\n\u001b[1;32m   1925\u001b[0m     forward_backward = self._select_forward_and_backward_functions(\n",
      "\u001b[0;32m/usr/local/lib/python3.8/site-packages/tensorflow/python/eager/function.py\u001b[0m in \u001b[0;36mcall\u001b[0;34m(self, ctx, args, cancellation_manager)\u001b[0m\n\u001b[1;32m    543\u001b[0m       \u001b[0;32mwith\u001b[0m \u001b[0m_InterpolateFunctionError\u001b[0m\u001b[0;34m(\u001b[0m\u001b[0mself\u001b[0m\u001b[0;34m)\u001b[0m\u001b[0;34m:\u001b[0m\u001b[0;34m\u001b[0m\u001b[0;34m\u001b[0m\u001b[0m\n\u001b[1;32m    544\u001b[0m         \u001b[0;32mif\u001b[0m \u001b[0mcancellation_manager\u001b[0m \u001b[0;32mis\u001b[0m \u001b[0;32mNone\u001b[0m\u001b[0;34m:\u001b[0m\u001b[0;34m\u001b[0m\u001b[0;34m\u001b[0m\u001b[0m\n\u001b[0;32m--> 545\u001b[0;31m           outputs = execute.execute(\n\u001b[0m\u001b[1;32m    546\u001b[0m               \u001b[0mstr\u001b[0m\u001b[0;34m(\u001b[0m\u001b[0mself\u001b[0m\u001b[0;34m.\u001b[0m\u001b[0msignature\u001b[0m\u001b[0;34m.\u001b[0m\u001b[0mname\u001b[0m\u001b[0;34m)\u001b[0m\u001b[0;34m,\u001b[0m\u001b[0;34m\u001b[0m\u001b[0;34m\u001b[0m\u001b[0m\n\u001b[1;32m    547\u001b[0m               \u001b[0mnum_outputs\u001b[0m\u001b[0;34m=\u001b[0m\u001b[0mself\u001b[0m\u001b[0;34m.\u001b[0m\u001b[0m_num_outputs\u001b[0m\u001b[0;34m,\u001b[0m\u001b[0;34m\u001b[0m\u001b[0;34m\u001b[0m\u001b[0m\n",
      "\u001b[0;32m/usr/local/lib/python3.8/site-packages/tensorflow/python/eager/execute.py\u001b[0m in \u001b[0;36mquick_execute\u001b[0;34m(op_name, num_outputs, inputs, attrs, ctx, name)\u001b[0m\n\u001b[1;32m     57\u001b[0m   \u001b[0;32mtry\u001b[0m\u001b[0;34m:\u001b[0m\u001b[0;34m\u001b[0m\u001b[0;34m\u001b[0m\u001b[0m\n\u001b[1;32m     58\u001b[0m     \u001b[0mctx\u001b[0m\u001b[0;34m.\u001b[0m\u001b[0mensure_initialized\u001b[0m\u001b[0;34m(\u001b[0m\u001b[0;34m)\u001b[0m\u001b[0;34m\u001b[0m\u001b[0;34m\u001b[0m\u001b[0m\n\u001b[0;32m---> 59\u001b[0;31m     tensors = pywrap_tfe.TFE_Py_Execute(ctx._handle, device_name, op_name,\n\u001b[0m\u001b[1;32m     60\u001b[0m                                         inputs, attrs, num_outputs)\n\u001b[1;32m     61\u001b[0m   \u001b[0;32mexcept\u001b[0m \u001b[0mcore\u001b[0m\u001b[0;34m.\u001b[0m\u001b[0m_NotOkStatusException\u001b[0m \u001b[0;32mas\u001b[0m \u001b[0me\u001b[0m\u001b[0;34m:\u001b[0m\u001b[0;34m\u001b[0m\u001b[0;34m\u001b[0m\u001b[0m\n",
      "\u001b[0;31mKeyboardInterrupt\u001b[0m: "
     ]
    }
   ],
   "source": [
    "history = model.fit(x_train, y_train, validation_data = (x_val, y_val), epochs = 50, verbose = 1, shuffle = True)"
   ]
  },
  {
   "cell_type": "code",
   "execution_count": null,
   "metadata": {},
   "outputs": [],
   "source": [
    "history = model.fit(x_train, y_train, validation_data = (x_val, y_val), epochs = 10, verbose = 1, shuffle = True)"
   ]
  },
  {
   "cell_type": "code",
   "execution_count": null,
   "metadata": {},
   "outputs": [],
   "source": [
    "result = model.evaluate(x_val, y_val, verbose = 1)"
   ]
  },
  {
   "cell_type": "code",
   "execution_count": null,
   "metadata": {},
   "outputs": [],
   "source": [
    "# Get static dataset:\n",
    "\n",
    "# x_vals = np.zeros((400, 224, 224, 3))\n",
    "# y_vals = np.zeros((400, 8))\n",
    "# for i in range(400):\n",
    "#     x, y = val_gen.next()\n",
    "#     x_vals[i, :, :, :] = x\n",
    "#     y_vals[i, :] = y\n",
    "    "
   ]
  },
  {
   "cell_type": "code",
   "execution_count": null,
   "metadata": {},
   "outputs": [],
   "source": [
    "result = model.evaluate(x_vals, y_vals, verbose = 1)"
   ]
  },
  {
   "cell_type": "code",
   "execution_count": 7,
   "metadata": {},
   "outputs": [
    {
     "name": "stdout",
     "output_type": "stream",
     "text": [
      "235/235 [==============================] - 473s 2s/step\n"
     ]
    }
   ],
   "source": [
    "out = model_extra.predict(x_val, verbose = 1)"
   ]
  },
  {
   "cell_type": "code",
   "execution_count": null,
   "metadata": {},
   "outputs": [],
   "source": [
    "print(out[1].shape)"
   ]
  },
  {
   "cell_type": "code",
   "execution_count": null,
   "metadata": {
    "scrolled": false
   },
   "outputs": [],
   "source": [
    "dist_from_first = []\n",
    "image_dict = {}\n",
    "index = 1444\n",
    "first_features = out[2][index]\n",
    "first_image = x_val[index][:,:,:]\n",
    "print(first_image.shape)\n",
    "\n",
    "# hash images:\n",
    "for idx in range(x_val.shape[0]):\n",
    "    image_dict[str(out[2][idx])] = x_val[idx] \n",
    "\n",
    "plt.clf()\n",
    "plt.imshow(first_image/255)\n",
    "plt.show()\n",
    "\n",
    "# for i in range(400):\n",
    "#     if i % 25 == 0:\n",
    "#         print(i)\n",
    "for idx, item in enumerate(out[2]):\n",
    "    dist_from_first.append((np.linalg.norm(first_features-item), (str(item))))\n",
    "\n",
    "dist_from_first.sort()\n",
    "# print(dist_from_first)\n",
    "\n",
    "for i in range(20):\n",
    "    plt.clf()\n",
    "    img = image_dict[dist_from_first[i][1]]\n",
    "    plt.imshow(img/255)\n",
    "    plt.show()"
   ]
  },
  {
   "cell_type": "code",
   "execution_count": null,
   "metadata": {},
   "outputs": [],
   "source": []
  },
  {
   "cell_type": "code",
   "execution_count": null,
   "metadata": {},
   "outputs": [],
   "source": []
  }
 ],
 "metadata": {
  "kernelspec": {
   "display_name": "Python 3",
   "language": "python",
   "name": "python3"
  },
  "language_info": {
   "codemirror_mode": {
    "name": "ipython",
    "version": 3
   },
   "file_extension": ".py",
   "mimetype": "text/x-python",
   "name": "python",
   "nbconvert_exporter": "python",
   "pygments_lexer": "ipython3",
   "version": "3.8.6"
  }
 },
 "nbformat": 4,
 "nbformat_minor": 4
}
