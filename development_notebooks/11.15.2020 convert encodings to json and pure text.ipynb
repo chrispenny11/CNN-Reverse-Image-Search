{
 "cells": [
  {
   "cell_type": "code",
   "execution_count": 7,
   "metadata": {},
   "outputs": [],
   "source": [
    "import numpy as np\n",
    "import sys\n",
    "# import sklearn.model_selection as skl\n",
    "# from sklearn.model_selection import train_test_split\n",
    "import pickle\n",
    "\n",
    "from keras.applications.resnet import decode_predictions\n",
    "\n",
    "import matplotlib\n",
    "import matplotlib.pyplot as plt\n",
    "import time\n",
    "import PIL\n",
    "\n",
    "import os\n",
    "\n",
    "import json\n",
    "\n",
    "from annoy import AnnoyIndex\n",
    "\n",
    "plt.rcParams[\"figure.figsize\"]=1,1"
   ]
  },
  {
   "cell_type": "code",
   "execution_count": 8,
   "metadata": {},
   "outputs": [],
   "source": [
    "# https://wiki.python.org/moin/UsingPickle\n",
    "\n",
    "# Source directory:\n",
    "src = './encodings/pretrained_resnet/'\n",
    "\n",
    "chunk_1 = pickle.load(open(src + \"imagenet_val_2048_encoding_\" + str(1) + \".p\", \"rb\") ) \n",
    "chunk_2 = pickle.load(open(src + \"imagenet_val_2048_encoding_\" + str(2) + \".p\", \"rb\") ) \n",
    "chunk_3 = pickle.load(open(src + \"imagenet_val_2048_encoding_\" + str(3) + \".p\", \"rb\") ) \n",
    "chunk_4 = pickle.load(open(src + \"imagenet_val_2048_encoding_\" + str(4) + \".p\", \"rb\") ) \n",
    "chunk_5 = pickle.load(open(src + \"imagenet_val_2048_encoding_\" + str(5) + \".p\", \"rb\") ) \n",
    "\n",
    "# encodings = np.concatenate([chunk_1])#, chunk_2, chunk_3, chunk_4, chunk_5], axis = 0)\n",
    "encodings_1000 = np.concatenate([chunk_1[0], chunk_2[0], chunk_3[0], chunk_4[0], chunk_5[0]], axis = 0)\n",
    "encodings_2048 = np.concatenate([chunk_1[1], chunk_2[1], chunk_3[1], chunk_4[1], chunk_5[1]], axis = 0)"
   ]
  },
  {
   "cell_type": "code",
   "execution_count": 9,
   "metadata": {},
   "outputs": [],
   "source": [
    "# Generate corresponding filepaths:\n",
    "\n",
    "# Generate target directories:\n",
    "cwd = os.getcwd()\n",
    "cwd += '/ImageNet/organized_validation_resnet/'\n",
    "\n",
    "# print(cwd)\n",
    "\n",
    "files_all = []\n",
    "\n",
    "for i in range(1,1001):\n",
    "    files = os.listdir(cwd + str(i))  # Get all the files in that directory\n",
    "#     print(files)\n",
    "\n",
    "    files_all += [str(i) + '/' + x for x in files]\n",
    "\n",
    "print(len(files_all))"
   ]
  },
  {
   "cell_type": "code",
   "execution_count": null,
   "metadata": {},
   "outputs": [],
   "source": [
    "# text_file_1000 = open(\".encodings/validation_pretrained_resnet/resnet50_validation_1000.txt\", \"w\")\n",
    "# text_file_1000 = open(\".encodings/validation_pretrained_resnet/resnet50_validation_2048.txt\", \"w\")"
   ]
  },
  {
   "cell_type": "code",
   "execution_count": 10,
   "metadata": {},
   "outputs": [],
   "source": [
    "encodings_1000_dict = {}\n",
    "encodings_2048_dict = {}\n",
    "\n",
    "for idx, encoding in enumerate(encodings_1000):\n",
    "#     print(files_all[idx])\n",
    "#     print(encoding)\n",
    "    encodings_1000_dict[files_all[idx]] = list([float(x) for x in encoding])\n",
    "    \n",
    "for idx, encoding in enumerate(encodings_2048):\n",
    "    print(files_all[idx])\n",
    "#     print(encoding)\n",
    "    encodings_2048_dict[files_all[idx]] = list([str(x) for x in encoding])\n",
    "\n",
    "    "
   ]
  },
  {
   "cell_type": "code",
   "execution_count": null,
   "metadata": {},
   "outputs": [],
   "source": [
    "# Commented-out code was run to produce necessary files:"
   ]
  },
  {
   "cell_type": "code",
   "execution_count": null,
   "metadata": {},
   "outputs": [],
   "source": [
    "# with open('resnet50_validation_1000.txt', 'w') as outfile:\n",
    "#     json.dump(encodings_1000_dict, outfile)"
   ]
  },
  {
   "cell_type": "code",
   "execution_count": null,
   "metadata": {},
   "outputs": [],
   "source": [
    "# with open('resnet50_validation_2048.txt', 'w') as outfile:\n",
    "#     json.dump(encodings_2048_dict, outfile)"
   ]
  },
  {
   "cell_type": "code",
   "execution_count": null,
   "metadata": {},
   "outputs": [],
   "source": [
    "# encodings_1000_dict_small = {}\n",
    "# encodings_1000_small = encodings_1000[0:1000]\n",
    "\n",
    "# for idx, encoding in enumerate(encodings_1000_small):\n",
    "# #     print(files_all[idx])\n",
    "# #     print(encoding)\n",
    "#     encodings_1000_dict_small[files_all[idx]] = list([float(x) for x in encoding])\n",
    "\n",
    "# with open('test_json.txt', 'w') as outfile:\n",
    "#     json.dump(encodings_1000_dict_small, outfile)"
   ]
  },
  {
   "cell_type": "code",
   "execution_count": null,
   "metadata": {},
   "outputs": [],
   "source": [
    "# with open('test_json.txt') as json_file:\n",
    "#     data = json.load(json_file)\n",
    "#     print(data)\n"
   ]
  },
  {
   "cell_type": "code",
   "execution_count": null,
   "metadata": {},
   "outputs": [],
   "source": [
    "# data['1/ILSVRC2012_val_00018317.JPEG']"
   ]
  },
  {
   "cell_type": "code",
   "execution_count": 11,
   "metadata": {},
   "outputs": [],
   "source": [
    "# # Make plain text version for MRJOB input:\n",
    "# stdoutOrigin=sys.stdout \n",
    "# sys.stdout = open(\"resnet50_validation_2048_pure_text.txt\", \"w\")\n",
    "\n",
    "# for key in encodings_2048_dict.keys():\n",
    "#     print(key, end = ' ')\n",
    "#     print(encodings_2048_dict[key])\n",
    "\n",
    "# sys.stdout.close()\n",
    "# sys.stdout=stdoutOrigin"
   ]
  },
  {
   "cell_type": "code",
   "execution_count": null,
   "metadata": {},
   "outputs": [],
   "source": []
  }
 ],
 "metadata": {
  "kernelspec": {
   "display_name": "Python 3",
   "language": "python",
   "name": "python3"
  },
  "language_info": {
   "codemirror_mode": {
    "name": "ipython",
    "version": 3
   },
   "file_extension": ".py",
   "mimetype": "text/x-python",
   "name": "python",
   "nbconvert_exporter": "python",
   "pygments_lexer": "ipython3",
   "version": "3.8.6"
  }
 },
 "nbformat": 4,
 "nbformat_minor": 4
}
