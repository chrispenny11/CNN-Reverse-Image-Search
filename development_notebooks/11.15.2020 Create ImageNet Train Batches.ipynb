{
 "cells": [
  {
   "cell_type": "code",
   "execution_count": 1,
   "metadata": {},
   "outputs": [],
   "source": [
    "import pandas as pd\n",
    "import numpy as np\n",
    "import os\n",
    "from shutil import copy"
   ]
  },
  {
   "cell_type": "code",
   "execution_count": 2,
   "metadata": {},
   "outputs": [
    {
     "name": "stdout",
     "output_type": "stream",
     "text": [
      "/Users/ChrisPenny/Documents/MPCS53112/project_dir\n"
     ]
    }
   ],
   "source": [
    "cwd = os.getcwd()\n",
    "print(cwd)"
   ]
  },
  {
   "cell_type": "code",
   "execution_count": 3,
   "metadata": {},
   "outputs": [],
   "source": [
    "# df_merged_keys = pd.read_csv('./ImageNet/imagenet_resnet_key.csv')"
   ]
  },
  {
   "cell_type": "code",
   "execution_count": 4,
   "metadata": {},
   "outputs": [],
   "source": [
    "imagenet_dir = '/Volumes/Samsung_T5/ImageNet/torrented_version/ILSVRC2012_img_train'\n",
    "image_list = []\n",
    "\n",
    "for root, dirs, files in os.walk(imagenet_dir, topdown=False):\n",
    "    for name in files:\n",
    "\n",
    "        if name[-5:].lower() == '.jpeg':\n",
    "            image_list.append(name)\n"
   ]
  },
  {
   "cell_type": "code",
   "execution_count": 5,
   "metadata": {},
   "outputs": [
    {
     "name": "stdout",
     "output_type": "stream",
     "text": [
      "1281129\n",
      "1281129\n"
     ]
    }
   ],
   "source": [
    "# The number of images should be 1,281,167 - apparently we are missing a few but\n",
    "# unlikely to be problematic.\n",
    "# As Per: https://www.tensorflow.org/datasets/catalog/imagenet2012\n",
    "\n",
    "print(len(image_list))\n",
    "image_set = set(image_list)\n",
    "print(len(image_set))\n",
    "image_list_dedup = list(image_set)\n",
    "image_list_dedup.sort()\n",
    "# print(image_list[10000:20000])"
   ]
  },
  {
   "cell_type": "code",
   "execution_count": 6,
   "metadata": {},
   "outputs": [],
   "source": [
    "# selection_order = np.random.choice(len(picture_list), len(picture_list), replace=False)"
   ]
  },
  {
   "cell_type": "code",
   "execution_count": 7,
   "metadata": {},
   "outputs": [],
   "source": [
    "selection_order = np.random.choice(len(image_list_dedup), len(image_list_dedup), replace=False)\n",
    "images_selected_order = []\n",
    "\n",
    "for draw in selection_order:\n",
    "    images_selected_order.append(image_list_dedup[draw])\n",
    "\n",
    "# print(images_selected_order)"
   ]
  },
  {
   "cell_type": "code",
   "execution_count": 8,
   "metadata": {},
   "outputs": [
    {
     "data": {
      "text/plain": [
       "array([1, 'n04487081_513.JPEG'], dtype=object)"
      ]
     },
     "metadata": {},
     "output_type": "display_data"
    }
   ],
   "source": [
    "# saved_image_order = pd.DataFrame({'image_order': images_selected_order})\n",
    "# saved_image_order.to_csv('image_selection_order.csv')\n",
    "\n",
    "saved_image_order = pd.read_csv('image_selection_order.csv').values\n",
    "\n",
    "display(saved_image_order[1])\n"
   ]
  },
  {
   "cell_type": "code",
   "execution_count": 25,
   "metadata": {},
   "outputs": [],
   "source": [
    "# Create new training batch directories:\n",
    "# NOTE: To be uploaded to s3 in a flat structure.\n",
    "\n",
    "# REDO:\n",
    "# 8.0, 2.0\n",
    "\n",
    "start_idx = 20000\n",
    "end_idx = 40000\n",
    "\n",
    "src = '/Volumes/Samsung_T5/ImageNet/torrented_version/ILSVRC2012_img_train/'\n",
    "dest = '/Volumes/Samsung_T5/ImageNet/s3_train_batch_2.0/'\n",
    "for idx in range(start_idx, end_idx):\n",
    "    file = saved_image_order[idx][1]\n",
    "    inpath = file[:file.find('_')] + '/' + file\n",
    "    copy(src + inpath, dest + file)\n",
    "#     print(src + inpath)\n",
    "#     print(dest + file)\n"
   ]
  },
  {
   "cell_type": "code",
   "execution_count": 10,
   "metadata": {},
   "outputs": [],
   "source": [
    "# Ultimately unused code:\n",
    "\n",
    "# picture_list = [x for x in os.walk(imagenet_dir, topdown=False)]\n",
    "\n",
    "# dir_list = []\n",
    "# prev_item = 'a'\n",
    "\n",
    "# for item in picture_list:\n",
    "\n",
    "# #    # Catch duplicates:\n",
    "# #     if prev_item == item[0][-9:]:\n",
    "# # #         print(cur_item)\n",
    "# #         print(prev_item)\n",
    "#     print(item[0][-9:])\n",
    "#     dir_list.append(item[0][-9:])\n",
    "#     prev_item = item[0][-9:]\n",
    "    \n",
    "# dir_list = dir_list[:-12]\n",
    "# dir_list.sort()\n",
    "# print(len(dir_list))\n",
    "# # print(dir_list)\n",
    "\n",
    "# # Determine which folders are not in imagenet:\n",
    "# dir_set = set(dir_list)\n",
    "# comp_dir_set = set(df_merged_keys['train_id'].values)\n",
    "\n",
    "# print(dir_set - comp_dir_set)\n",
    "# print(comp_dir_set - dir_set)\n",
    "# print(len(dir_set))"
   ]
  }
 ],
 "metadata": {
  "kernelspec": {
   "display_name": "Python 3",
   "language": "python",
   "name": "python3"
  },
  "language_info": {
   "codemirror_mode": {
    "name": "ipython",
    "version": 3
   },
   "file_extension": ".py",
   "mimetype": "text/x-python",
   "name": "python",
   "nbconvert_exporter": "python",
   "pygments_lexer": "ipython3",
   "version": "3.8.6"
  }
 },
 "nbformat": 4,
 "nbformat_minor": 4
}
